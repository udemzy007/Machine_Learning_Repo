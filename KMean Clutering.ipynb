{
 "cells": [
  {
   "cell_type": "markdown",
   "metadata": {},
   "source": [
    "# Basics of Cluster Analysis"
   ]
  },
  {
   "cell_type": "markdown",
   "metadata": {},
   "source": [
    "## Import the relevant libraries"
   ]
  },
  {
   "cell_type": "code",
   "execution_count": 50,
   "metadata": {},
   "outputs": [],
   "source": [
    "import pandas as pd\n",
    "import numpy as np\n",
    "import matplotlib.pyplot as plt\n",
    "import seaborn as sns\n",
    "sns.set()\n",
    "\n",
    "from sklearn.cluster import KMeans"
   ]
  },
  {
   "cell_type": "markdown",
   "metadata": {},
   "source": [
    "## Load the dataset"
   ]
  },
  {
   "cell_type": "code",
   "execution_count": 51,
   "metadata": {},
   "outputs": [],
   "source": [
    "data = pd.read_csv('Countries-exercise.csv')"
   ]
  },
  {
   "cell_type": "code",
   "execution_count": 52,
   "metadata": {},
   "outputs": [
    {
     "data": {
      "text/html": [
       "<div>\n",
       "<style scoped>\n",
       "    .dataframe tbody tr th:only-of-type {\n",
       "        vertical-align: middle;\n",
       "    }\n",
       "\n",
       "    .dataframe tbody tr th {\n",
       "        vertical-align: top;\n",
       "    }\n",
       "\n",
       "    .dataframe thead th {\n",
       "        text-align: right;\n",
       "    }\n",
       "</style>\n",
       "<table border=\"1\" class=\"dataframe\">\n",
       "  <thead>\n",
       "    <tr style=\"text-align: right;\">\n",
       "      <th></th>\n",
       "      <th>name</th>\n",
       "      <th>Longitude</th>\n",
       "      <th>Latitude</th>\n",
       "      <th>Language</th>\n",
       "    </tr>\n",
       "  </thead>\n",
       "  <tbody>\n",
       "    <tr>\n",
       "      <th>0</th>\n",
       "      <td>Aruba</td>\n",
       "      <td>-69.982677</td>\n",
       "      <td>12.520880</td>\n",
       "      <td>English</td>\n",
       "    </tr>\n",
       "    <tr>\n",
       "      <th>1</th>\n",
       "      <td>Afghanistan</td>\n",
       "      <td>66.004734</td>\n",
       "      <td>33.835231</td>\n",
       "      <td>Arabic</td>\n",
       "    </tr>\n",
       "    <tr>\n",
       "      <th>2</th>\n",
       "      <td>Angola</td>\n",
       "      <td>17.537368</td>\n",
       "      <td>-12.293361</td>\n",
       "      <td>Arabic</td>\n",
       "    </tr>\n",
       "    <tr>\n",
       "      <th>3</th>\n",
       "      <td>Anguilla</td>\n",
       "      <td>-63.064989</td>\n",
       "      <td>18.223959</td>\n",
       "      <td>Arabic</td>\n",
       "    </tr>\n",
       "    <tr>\n",
       "      <th>4</th>\n",
       "      <td>Albania</td>\n",
       "      <td>20.049834</td>\n",
       "      <td>41.142450</td>\n",
       "      <td>English</td>\n",
       "    </tr>\n",
       "    <tr>\n",
       "      <th>...</th>\n",
       "      <td>...</td>\n",
       "      <td>...</td>\n",
       "      <td>...</td>\n",
       "      <td>...</td>\n",
       "    </tr>\n",
       "    <tr>\n",
       "      <th>236</th>\n",
       "      <td>Samoa</td>\n",
       "      <td>-172.164851</td>\n",
       "      <td>-13.753243</td>\n",
       "      <td>English</td>\n",
       "    </tr>\n",
       "    <tr>\n",
       "      <th>237</th>\n",
       "      <td>Yemen</td>\n",
       "      <td>47.586762</td>\n",
       "      <td>15.909280</td>\n",
       "      <td>English</td>\n",
       "    </tr>\n",
       "    <tr>\n",
       "      <th>238</th>\n",
       "      <td>South Africa</td>\n",
       "      <td>25.083901</td>\n",
       "      <td>-29.000341</td>\n",
       "      <td>English</td>\n",
       "    </tr>\n",
       "    <tr>\n",
       "      <th>239</th>\n",
       "      <td>Zambia</td>\n",
       "      <td>27.774759</td>\n",
       "      <td>-13.458242</td>\n",
       "      <td>English</td>\n",
       "    </tr>\n",
       "    <tr>\n",
       "      <th>240</th>\n",
       "      <td>Zimbabwe</td>\n",
       "      <td>29.851441</td>\n",
       "      <td>-19.004204</td>\n",
       "      <td>English</td>\n",
       "    </tr>\n",
       "  </tbody>\n",
       "</table>\n",
       "<p>241 rows × 4 columns</p>\n",
       "</div>"
      ],
      "text/plain": [
       "             name   Longitude   Latitude Language\n",
       "0           Aruba  -69.982677  12.520880  English\n",
       "1     Afghanistan   66.004734  33.835231   Arabic\n",
       "2          Angola   17.537368 -12.293361   Arabic\n",
       "3        Anguilla  -63.064989  18.223959   Arabic\n",
       "4         Albania   20.049834  41.142450  English\n",
       "..            ...         ...        ...      ...\n",
       "236         Samoa -172.164851 -13.753243  English\n",
       "237         Yemen   47.586762  15.909280  English\n",
       "238  South Africa   25.083901 -29.000341  English\n",
       "239        Zambia   27.774759 -13.458242  English\n",
       "240      Zimbabwe   29.851441 -19.004204  English\n",
       "\n",
       "[241 rows x 4 columns]"
      ]
     },
     "execution_count": 52,
     "metadata": {},
     "output_type": "execute_result"
    }
   ],
   "source": [
    "data"
   ]
  },
  {
   "cell_type": "markdown",
   "metadata": {},
   "source": [
    "## Plot the data"
   ]
  },
  {
   "cell_type": "code",
   "execution_count": 53,
   "metadata": {},
   "outputs": [
    {
     "data": {
      "image/png": "[encoded data removed]",
      "text/plain": [
       "<Figure size 432x288 with 1 Axes>"
      ]
     },
     "metadata": {},
     "output_type": "display_data"
    }
   ],
   "source": [
    "plt.scatter(data['Longitude'], data['Latitude'])\n",
    "plt.xlim(-180, 180)\n",
    "plt.ylim(-90, 90)\n",
    "plt.show()"
   ]
  },
  {
   "cell_type": "markdown",
   "metadata": {},
   "source": [
    "## Select the features"
   ]
  },
  {
   "cell_type": "code",
   "execution_count": 54,
   "metadata": {},
   "outputs": [],
   "source": [
    "# DataFrame.iloc(row indices, columns indices)  ---- slices the data frame, given rows and columns to be kept\n",
    "x = data.iloc[:,1:3]"
   ]
  },
  {
   "cell_type": "code",
   "execution_count": 55,
   "metadata": {},
   "outputs": [
    {
     "data": {
      "text/html": [
       "<div>\n",
       "<style scoped>\n",
       "    .dataframe tbody tr th:only-of-type {\n",
       "        vertical-align: middle;\n",
       "    }\n",
       "\n",
       "    .dataframe tbody tr th {\n",
       "        vertical-align: top;\n",
       "    }\n",
       "\n",
       "    .dataframe thead th {\n",
       "        text-align: right;\n",
       "    }\n",
       "</style>\n",
       "<table border=\"1\" class=\"dataframe\">\n",
       "  <thead>\n",
       "    <tr style=\"text-align: right;\">\n",
       "      <th></th>\n",
       "      <th>Longitude</th>\n",
       "      <th>Latitude</th>\n",
       "    </tr>\n",
       "  </thead>\n",
       "  <tbody>\n",
       "    <tr>\n",
       "      <th>0</th>\n",
       "      <td>-69.982677</td>\n",
       "      <td>12.520880</td>\n",
       "    </tr>\n",
       "    <tr>\n",
       "      <th>1</th>\n",
       "      <td>66.004734</td>\n",
       "      <td>33.835231</td>\n",
       "    </tr>\n",
       "    <tr>\n",
       "      <th>2</th>\n",
       "      <td>17.537368</td>\n",
       "      <td>-12.293361</td>\n",
       "    </tr>\n",
       "    <tr>\n",
       "      <th>3</th>\n",
       "      <td>-63.064989</td>\n",
       "      <td>18.223959</td>\n",
       "    </tr>\n",
       "    <tr>\n",
       "      <th>4</th>\n",
       "      <td>20.049834</td>\n",
       "      <td>41.142450</td>\n",
       "    </tr>\n",
       "    <tr>\n",
       "      <th>...</th>\n",
       "      <td>...</td>\n",
       "      <td>...</td>\n",
       "    </tr>\n",
       "    <tr>\n",
       "      <th>236</th>\n",
       "      <td>-172.164851</td>\n",
       "      <td>-13.753243</td>\n",
       "    </tr>\n",
       "    <tr>\n",
       "      <th>237</th>\n",
       "      <td>47.586762</td>\n",
       "      <td>15.909280</td>\n",
       "    </tr>\n",
       "    <tr>\n",
       "      <th>238</th>\n",
       "      <td>25.083901</td>\n",
       "      <td>-29.000341</td>\n",
       "    </tr>\n",
       "    <tr>\n",
       "      <th>239</th>\n",
       "      <td>27.774759</td>\n",
       "      <td>-13.458242</td>\n",
       "    </tr>\n",
       "    <tr>\n",
       "      <th>240</th>\n",
       "      <td>29.851441</td>\n",
       "      <td>-19.004204</td>\n",
       "    </tr>\n",
       "  </tbody>\n",
       "</table>\n",
       "<p>241 rows × 2 columns</p>\n",
       "</div>"
      ],
      "text/plain": [
       "      Longitude   Latitude\n",
       "0    -69.982677  12.520880\n",
       "1     66.004734  33.835231\n",
       "2     17.537368 -12.293361\n",
       "3    -63.064989  18.223959\n",
       "4     20.049834  41.142450\n",
       "..          ...        ...\n",
       "236 -172.164851 -13.753243\n",
       "237   47.586762  15.909280\n",
       "238   25.083901 -29.000341\n",
       "239   27.774759 -13.458242\n",
       "240   29.851441 -19.004204\n",
       "\n",
       "[241 rows x 2 columns]"
      ]
     },
     "execution_count": 55,
     "metadata": {},
     "output_type": "execute_result"
    }
   ],
   "source": [
    "x"
   ]
  },
  {
   "cell_type": "markdown",
   "metadata": {},
   "source": [
    "## Clustering"
   ]
  },
  {
   "cell_type": "code",
   "execution_count": 64,
   "metadata": {},
   "outputs": [],
   "source": [
    "kmeans = KMeans(3)"
   ]
  },
  {
   "cell_type": "code",
   "execution_count": 65,
   "metadata": {},
   "outputs": [
    {
     "data": {
      "text/plain": [
       "KMeans(algorithm='auto', copy_x=True, init='k-means++', max_iter=300,\n",
       "       n_clusters=3, n_init=10, n_jobs=None, precompute_distances='auto',\n",
       "       random_state=None, tol=0.0001, verbose=0)"
      ]
     },
     "execution_count": 65,
     "metadata": {},
     "output_type": "execute_result"
    }
   ],
   "source": [
    "kmeans.fit(x)"
   ]
  },
  {
   "cell_type": "markdown",
   "metadata": {},
   "source": [
    "## Clustering results"
   ]
  },
  {
   "cell_type": "code",
   "execution_count": 66,
   "metadata": {},
   "outputs": [
    {
     "data": {
      "text/plain": [
       "array([1, 0, 0, 1, 0, 0, 0, 0, 1, 0, 1, 0, 2, 2, 1, 2, 0, 0, 0, 0, 0, 0,\n",
       "       2, 0, 0, 1, 1, 0, 1, 0, 1, 1, 1, 1, 1, 2, 2, 0, 0, 0, 1, 2, 0, 0,\n",
       "       0, 0, 1, 1, 0, 0, 1, 1, 1, 1, 0, 0, 0, 0, 0, 1, 0, 1, 0, 1, 0, 0,\n",
       "       0, 0, 0, 0, 2, 1, 0, 0, 2, 0, 0, 0, 0, 0, 0, 0, 0, 0, 0, 1, 1, 1,\n",
       "       2, 1, 2, 2, 1, 0, 1, 0, 2, 0, 2, 2, 2, 0, 0, 0, 0, 0, 0, 1, 0, 0,\n",
       "       2, 2, 0, 0, 0, 2, 1, 1, 2, 0, 0, 2, 0, 0, 0, 1, 0, 2, 0, 0, 0, 0,\n",
       "       2, 1, 0, 0, 0, 0, 2, 1, 2, 0, 0, 0, 2, 0, 2, 2, 0, 0, 1, 0, 0, 2,\n",
       "       0, 2, 0, 2, 0, 1, 1, 0, 0, 2, 2, 2, 0, 0, 1, 1, 1, 2, 2, 2, 0, 1,\n",
       "       2, 0, 1, 0, 1, 0, 0, 2, 0, 0, 0, 0, 0, 0, 2, 1, 0, 2, 0, 1, 0, 0,\n",
       "       0, 1, 0, 0, 1, 0, 0, 0, 0, 1, 0, 0, 1, 0, 0, 2, 0, 0, 2, 1, 1, 0,\n",
       "       0, 2, 0, 0, 0, 1, 1, 0, 0, 1, 1, 1, 1, 2, 2, 1, 1, 0, 0, 0, 0])"
      ]
     },
     "execution_count": 66,
     "metadata": {},
     "output_type": "execute_result"
    }
   ],
   "source": [
    "identified_clusters = kmeans.fit_predict(x)\n",
    "identified_clusters"
   ]
  },
  {
   "cell_type": "code",
   "execution_count": 67,
   "metadata": {},
   "outputs": [
    {
     "data": {
      "text/html": [
       "<div>\n",
       "<style scoped>\n",
       "    .dataframe tbody tr th:only-of-type {\n",
       "        vertical-align: middle;\n",
       "    }\n",
       "\n",
       "    .dataframe tbody tr th {\n",
       "        vertical-align: top;\n",
       "    }\n",
       "\n",
       "    .dataframe thead th {\n",
       "        text-align: right;\n",
       "    }\n",
       "</style>\n",
       "<table border=\"1\" class=\"dataframe\">\n",
       "  <thead>\n",
       "    <tr style=\"text-align: right;\">\n",
       "      <th></th>\n",
       "      <th>name</th>\n",
       "      <th>Longitude</th>\n",
       "      <th>Latitude</th>\n",
       "      <th>Language</th>\n",
       "      <th>Cluster</th>\n",
       "    </tr>\n",
       "  </thead>\n",
       "  <tbody>\n",
       "    <tr>\n",
       "      <th>0</th>\n",
       "      <td>Aruba</td>\n",
       "      <td>-69.982677</td>\n",
       "      <td>12.520880</td>\n",
       "      <td>English</td>\n",
       "      <td>1</td>\n",
       "    </tr>\n",
       "    <tr>\n",
       "      <th>1</th>\n",
       "      <td>Afghanistan</td>\n",
       "      <td>66.004734</td>\n",
       "      <td>33.835231</td>\n",
       "      <td>Arabic</td>\n",
       "      <td>0</td>\n",
       "    </tr>\n",
       "    <tr>\n",
       "      <th>2</th>\n",
       "      <td>Angola</td>\n",
       "      <td>17.537368</td>\n",
       "      <td>-12.293361</td>\n",
       "      <td>Arabic</td>\n",
       "      <td>0</td>\n",
       "    </tr>\n",
       "    <tr>\n",
       "      <th>3</th>\n",
       "      <td>Anguilla</td>\n",
       "      <td>-63.064989</td>\n",
       "      <td>18.223959</td>\n",
       "      <td>Arabic</td>\n",
       "      <td>1</td>\n",
       "    </tr>\n",
       "    <tr>\n",
       "      <th>4</th>\n",
       "      <td>Albania</td>\n",
       "      <td>20.049834</td>\n",
       "      <td>41.142450</td>\n",
       "      <td>English</td>\n",
       "      <td>0</td>\n",
       "    </tr>\n",
       "    <tr>\n",
       "      <th>...</th>\n",
       "      <td>...</td>\n",
       "      <td>...</td>\n",
       "      <td>...</td>\n",
       "      <td>...</td>\n",
       "      <td>...</td>\n",
       "    </tr>\n",
       "    <tr>\n",
       "      <th>236</th>\n",
       "      <td>Samoa</td>\n",
       "      <td>-172.164851</td>\n",
       "      <td>-13.753243</td>\n",
       "      <td>English</td>\n",
       "      <td>1</td>\n",
       "    </tr>\n",
       "    <tr>\n",
       "      <th>237</th>\n",
       "      <td>Yemen</td>\n",
       "      <td>47.586762</td>\n",
       "      <td>15.909280</td>\n",
       "      <td>English</td>\n",
       "      <td>0</td>\n",
       "    </tr>\n",
       "    <tr>\n",
       "      <th>238</th>\n",
       "      <td>South Africa</td>\n",
       "      <td>25.083901</td>\n",
       "      <td>-29.000341</td>\n",
       "      <td>English</td>\n",
       "      <td>0</td>\n",
       "    </tr>\n",
       "    <tr>\n",
       "      <th>239</th>\n",
       "      <td>Zambia</td>\n",
       "      <td>27.774759</td>\n",
       "      <td>-13.458242</td>\n",
       "      <td>English</td>\n",
       "      <td>0</td>\n",
       "    </tr>\n",
       "    <tr>\n",
       "      <th>240</th>\n",
       "      <td>Zimbabwe</td>\n",
       "      <td>29.851441</td>\n",
       "      <td>-19.004204</td>\n",
       "      <td>English</td>\n",
       "      <td>0</td>\n",
       "    </tr>\n",
       "  </tbody>\n",
       "</table>\n",
       "<p>241 rows × 5 columns</p>\n",
       "</div>"
      ],
      "text/plain": [
       "             name   Longitude   Latitude Language  Cluster\n",
       "0           Aruba  -69.982677  12.520880  English        1\n",
       "1     Afghanistan   66.004734  33.835231   Arabic        0\n",
       "2          Angola   17.537368 -12.293361   Arabic        0\n",
       "3        Anguilla  -63.064989  18.223959   Arabic        1\n",
       "4         Albania   20.049834  41.142450  English        0\n",
       "..            ...         ...        ...      ...      ...\n",
       "236         Samoa -172.164851 -13.753243  English        1\n",
       "237         Yemen   47.586762  15.909280  English        0\n",
       "238  South Africa   25.083901 -29.000341  English        0\n",
       "239        Zambia   27.774759 -13.458242  English        0\n",
       "240      Zimbabwe   29.851441 -19.004204  English        0\n",
       "\n",
       "[241 rows x 5 columns]"
      ]
     },
     "execution_count": 67,
     "metadata": {},
     "output_type": "execute_result"
    }
   ],
   "source": [
    "data_with_clusters = data.copy()\n",
    "data_with_clusters['Cluster'] = identified_clusters\n",
    "data_with_clusters"
   ]
  },
  {
   "cell_type": "code",
   "execution_count": 68,
   "metadata": {},
   "outputs": [
    {
     "data": {
      "image/png": "[encoded data removed]",
      "text/plain": [
       "<Figure size 432x288 with 1 Axes>"
      ]
     },
     "metadata": {},
     "output_type": "display_data"
    }
   ],
   "source": [
    "plt.scatter(data_with_clusters['Longitude'], data_with_clusters['Latitude'], c=data_with_clusters['Cluster'], cmap = 'rainbow')\n",
    "plt.xlim(-180, 180)\n",
    "plt.ylim(-90, 90)\n",
    "plt.show()"
   ]
  },
  {
   "cell_type": "markdown",
   "metadata": {},
   "source": [
    "## Selecting the number of clusters"
   ]
  },
  {
   "cell_type": "markdown",
   "metadata": {},
   "source": [
    "### WCSS"
   ]
  },
  {
   "cell_type": "code",
   "execution_count": 69,
   "metadata": {},
   "outputs": [
    {
     "data": {
      "text/plain": [
       "325235.52237055893"
      ]
     },
     "execution_count": 69,
     "metadata": {},
     "output_type": "execute_result"
    }
   ],
   "source": [
    "kmeans.inertia_"
   ]
  },
  {
   "cell_type": "code",
   "execution_count": 70,
   "metadata": {},
   "outputs": [],
   "source": [
    "# Creating a loop for the entire figure in the loop\n",
    "wcss = []\n",
    "\n",
    "for i in range(1,242):\n",
    "    kmeans = KMeans(i)\n",
    "    kmeans.fit(x)\n",
    "    wcss_iter = kmeans.inertia_\n",
    "    wcss.append(wcss_iter)"
   ]
  },
  {
   "cell_type": "code",
   "execution_count": 71,
   "metadata": {},
   "outputs": [
    {
     "data": {
      "text/plain": [
       "[1413859.6798344273,\n",
       " 657012.0797586325,\n",
       " 325235.52237055893,\n",
       " 256590.58575406106,\n",
       " 192194.9829002524,\n",
       " 151428.48761967372,\n",
       " 127277.5829200398,\n",
       " 102954.36642030303,\n",
       " 84945.19461239543,\n",
       " 76874.40281968402,\n",
       " 70181.95950086572,\n",
       " 64342.50701384434,\n",
       " 61051.550302904434,\n",
       " 54035.92162626177,\n",
       " 50354.76490614124,\n",
       " 48103.545532805816,\n",
       " 44449.0015717467,\n",
       " 41691.300383072,\n",
       " 40238.18814101981,\n",
       " 36360.35898520597,\n",
       " 34482.4549542201,\n",
       " 32585.816264560082,\n",
       " 30399.22668964348,\n",
       " 29312.36716266672,\n",
       " 27654.680603241708,\n",
       " 25312.502859409422,\n",
       " 23723.641955227446,\n",
       " 22678.690171251663,\n",
       " 21645.278371785076,\n",
       " 20320.27260045859,\n",
       " 19352.07883622908,\n",
       " 18841.672766292177,\n",
       " 17844.724560253144,\n",
       " 17208.877988052926,\n",
       " 16583.704267404806,\n",
       " 16047.835861649533,\n",
       " 15088.64606934938,\n",
       " 14656.98273510337,\n",
       " 14099.05906382591,\n",
       " 13246.04869685123,\n",
       " 12332.421214092481,\n",
       " 12383.978569507944,\n",
       " 11845.66277137911,\n",
       " 11264.453371191803,\n",
       " 11276.82096916532,\n",
       " 10355.730905543958,\n",
       " 10261.972377065005,\n",
       " 10182.181480454792,\n",
       " 9485.800807919475,\n",
       " 9305.187242913762,\n",
       " 9032.649247527217,\n",
       " 8644.52125027096,\n",
       " 8510.176299979312,\n",
       " 8296.996841306142,\n",
       " 8191.797842626623,\n",
       " 7785.509930297794,\n",
       " 7389.824053177868,\n",
       " 7452.250538511837,\n",
       " 6928.712206258928,\n",
       " 6735.198321891874,\n",
       " 6816.947363253725,\n",
       " 6487.1475747586555,\n",
       " 6468.568362031427,\n",
       " 6035.277456470462,\n",
       " 6048.424306702982,\n",
       " 5771.675808959703,\n",
       " 5532.412424225301,\n",
       " 5432.1249166825855,\n",
       " 5268.4010488814565,\n",
       " 5206.119570768138,\n",
       " 4983.3848218969415,\n",
       " 4872.555834257988,\n",
       " 4695.20739673229,\n",
       " 4625.908012688444,\n",
       " 4362.951582857726,\n",
       " 4263.4898582487385,\n",
       " 4289.07460760347,\n",
       " 4182.201513966763,\n",
       " 3985.7947107884747,\n",
       " 3906.5977161597184,\n",
       " 3814.0942335470313,\n",
       " 3493.899816722752,\n",
       " 3473.063897648053,\n",
       " 3464.6498416733352,\n",
       " 3305.233218671886,\n",
       " 3372.9676864733938,\n",
       " 3133.5129893898006,\n",
       " 3059.064871141309,\n",
       " 2940.569294292455,\n",
       " 3012.024488507672,\n",
       " 2835.815316299372,\n",
       " 2807.651918365699,\n",
       " 2784.734578858926,\n",
       " 2603.8655064279005,\n",
       " 2585.094281293439,\n",
       " 2441.5335471594553,\n",
       " 2406.506204934659,\n",
       " 2430.936320511072,\n",
       " 2363.9784833719177,\n",
       " 2268.5944326400713,\n",
       " 2097.6199159259227,\n",
       " 2187.258381055439,\n",
       " 2120.470312533898,\n",
       " 2010.7926964019323,\n",
       " 1992.9032633498687,\n",
       " 1919.2797598279972,\n",
       " 1875.6699763604142,\n",
       " 1807.5403074958922,\n",
       " 1831.21877743316,\n",
       " 1778.4598311801424,\n",
       " 1770.504527222285,\n",
       " 1660.7804717742374,\n",
       " 1595.7584339509658,\n",
       " 1515.4118064780018,\n",
       " 1495.2894843627241,\n",
       " 1469.33050696007,\n",
       " 1475.3621242540207,\n",
       " 1377.3260000360262,\n",
       " 1392.0628889791997,\n",
       " 1351.312552021443,\n",
       " 1281.1955161327137,\n",
       " 1242.2905858752206,\n",
       " 1197.0513971729858,\n",
       " 1160.0018779592162,\n",
       " 1124.755785229356,\n",
       " 1100.8937670931787,\n",
       " 1070.1765325078777,\n",
       " 997.7642819786065,\n",
       " 1015.8607905108868,\n",
       " 1013.414178253275,\n",
       " 919.9162190619359,\n",
       " 919.369634539127,\n",
       " 911.2122169653001,\n",
       " 862.5727410342781,\n",
       " 820.1832393329303,\n",
       " 820.3023941656418,\n",
       " 803.1782937040384,\n",
       " 751.2820570967283,\n",
       " 725.3841017819439,\n",
       " 710.9448813572501,\n",
       " 702.1254404174014,\n",
       " 643.8255346841233,\n",
       " 652.7708022991285,\n",
       " 622.0100998266796,\n",
       " 615.3779251021217,\n",
       " 588.3529316694575,\n",
       " 573.0649399646059,\n",
       " 548.0760835661558,\n",
       " 544.1467177568823,\n",
       " 525.3853297648011,\n",
       " 501.1871832348446,\n",
       " 471.7625919362801,\n",
       " 478.6548936086648,\n",
       " 460.0678900048759,\n",
       " 437.01067977325147,\n",
       " 428.0250878561785,\n",
       " 426.0468432610212,\n",
       " 412.00768447387674,\n",
       " 385.8740944273884,\n",
       " 365.5256386288543,\n",
       " 347.52161000086926,\n",
       " 346.6554065552465,\n",
       " 317.8770471849951,\n",
       " 319.6158430428885,\n",
       " 308.2542448346926,\n",
       " 297.20347700497234,\n",
       " 286.2577355525529,\n",
       " 270.6192786828284,\n",
       " 265.0019553457135,\n",
       " 247.84314238173897,\n",
       " 244.8143686110531,\n",
       " 232.14211538682673,\n",
       " 220.15487460452084,\n",
       " 211.61890388559198,\n",
       " 205.084074849498,\n",
       " 189.38042381335552,\n",
       " 186.8728464797406,\n",
       " 177.616919670965,\n",
       " 169.13417000884178,\n",
       " 161.99836366483905,\n",
       " 149.36348664812772,\n",
       " 144.0644982825197,\n",
       " 135.26268366891503,\n",
       " 130.7099941640044,\n",
       " 117.11639327958477,\n",
       " 115.04164273328,\n",
       " 113.63818383416174,\n",
       " 99.46061854143795,\n",
       " 96.62407125754626,\n",
       " 93.89586162453847,\n",
       " 87.84356222169583,\n",
       " 83.08148075236642,\n",
       " 75.74940758742983,\n",
       " 72.24436176912423,\n",
       " 73.18915385376346,\n",
       " 67.32228206969913,\n",
       " 62.884768099543905,\n",
       " 58.212957323429364,\n",
       " 56.33482744233575,\n",
       " 51.36314976674807,\n",
       " 49.399303266651465,\n",
       " 45.63931263837157,\n",
       " 44.42499737372407,\n",
       " 43.371568201234155,\n",
       " 38.7847913326858,\n",
       " 35.21955828404662,\n",
       " 33.59360123027672,\n",
       " 31.348986023249793,\n",
       " 29.6036575799194,\n",
       " 26.646833840556287,\n",
       " 25.734194137557758,\n",
       " 23.626873104366116,\n",
       " 21.479651315593316,\n",
       " 20.131942797761063,\n",
       " 18.594754959355733,\n",
       " 16.73726585761436,\n",
       " 14.886614825172643,\n",
       " 14.21770462128034,\n",
       " 12.460970375811488,\n",
       " 10.515181247252764,\n",
       " 9.242648265341236,\n",
       " 8.31413565619512,\n",
       " 7.087715825896723,\n",
       " 5.9124703299651,\n",
       " 4.974522473239045,\n",
       " 4.1289324273815415,\n",
       " 3.3254151190947994,\n",
       " 2.7609350187639725,\n",
       " 2.2834446921005327,\n",
       " 1.8168462029337038,\n",
       " 1.4486640354769742,\n",
       " 1.1973469605217284,\n",
       " 0.9763369235964257,\n",
       " 0.7582519978492409,\n",
       " 0.5403551927615756,\n",
       " 0.34231456414362027,\n",
       " 0.2119023346432546,\n",
       " 0.08997126450348436,\n",
       " 0.01658946830933003,\n",
       " 0.0007279846098916333,\n",
       " 0.0]"
      ]
     },
     "execution_count": 71,
     "metadata": {},
     "output_type": "execute_result"
    }
   ],
   "source": [
    "wcss"
   ]
  },
  {
   "cell_type": "markdown",
   "metadata": {},
   "source": [
    "### The Elbow Method"
   ]
  },
  {
   "cell_type": "code",
   "execution_count": 77,
   "metadata": {},
   "outputs": [
    {
     "data": {
      "text/plain": [
       "Text(0, 0.5, 'Within-Clusters Sum-of-squares')"
      ]
     },
     "execution_count": 77,
     "metadata": {},
     "output_type": "execute_result"
    },
    {
     "data": {
      "image/png": "[encoded data removed]",
      "text/plain": [
       "<Figure size 432x288 with 1 Axes>"
      ]
     },
     "metadata": {},
     "output_type": "display_data"
    }
   ],
   "source": [
    "number_clusters = range(1,242)\n",
    "plt.plot(number_clusters, wcss)\n",
    "plt.title('The Elbow Method')\n",
    "plt.xlabel('Number of Cluster')\n",
    "plt.ylabel('Within-Clusters Sum-of-squares')"
   ]
  },
  {
   "cell_type": "code",
   "execution_count": null,
   "metadata": {},
   "outputs": [],
   "source": []
  }
 ],
 "metadata": {
  "kernelspec": {
   "display_name": "Python 3",
   "language": "python",
   "name": "python3"
  },
  "language_info": {
   "codemirror_mode": {
    "name": "ipython",
    "version": 3
   },
   "file_extension": ".py",
   "mimetype": "text/x-python",
   "name": "python",
   "nbconvert_exporter": "python",
   "pygments_lexer": "ipython3",
   "version": "3.7.6"
  }
 },
 "nbformat": 4,
 "nbformat_minor": 4
}
